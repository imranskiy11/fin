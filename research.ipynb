{
 "cells": [
  {
   "cell_type": "code",
   "execution_count": 1,
   "metadata": {},
   "outputs": [],
   "source": [
    "from helpers.data_load import load_data_from_txt\n",
    "from typing import List, Tuple\n",
    "import pandas as pd\n",
    "import numpy as np\n",
    "from sklearn.metrics import mean_absolute_error, mean_squared_error\n",
    "from helpers.data_helpers import get_sequence\n",
    "import matplotlib.pyplot as plt\n",
    "from numpy.linalg import norm\n",
    "from tqdm.notebook import tqdm\n",
    "import faiss\n",
    "import warnings\n",
    "warnings.filterwarnings('ignore')"
   ]
  },
  {
   "cell_type": "code",
   "execution_count": null,
   "metadata": {},
   "outputs": [],
   "source": []
  },
  {
   "cell_type": "code",
   "execution_count": 2,
   "metadata": {},
   "outputs": [],
   "source": [
    "data = load_data_from_txt(path='data/data.txt')"
   ]
  },
  {
   "cell_type": "code",
   "execution_count": 3,
   "metadata": {},
   "outputs": [
    {
     "data": {
      "text/html": [
       "<div>\n",
       "<style scoped>\n",
       "    .dataframe tbody tr th:only-of-type {\n",
       "        vertical-align: middle;\n",
       "    }\n",
       "\n",
       "    .dataframe tbody tr th {\n",
       "        vertical-align: top;\n",
       "    }\n",
       "\n",
       "    .dataframe thead th {\n",
       "        text-align: right;\n",
       "    }\n",
       "</style>\n",
       "<table border=\"1\" class=\"dataframe\">\n",
       "  <thead>\n",
       "    <tr style=\"text-align: right;\">\n",
       "      <th></th>\n",
       "      <th>EURUSD</th>\n",
       "      <th>numdate</th>\n",
       "      <th>time</th>\n",
       "      <th>open</th>\n",
       "      <th>max</th>\n",
       "      <th>min</th>\n",
       "      <th>close</th>\n",
       "      <th>vol</th>\n",
       "    </tr>\n",
       "  </thead>\n",
       "  <tbody>\n",
       "    <tr>\n",
       "      <th>EURUSD</th>\n",
       "      <td>5</td>\n",
       "      <td>20200701</td>\n",
       "      <td>500</td>\n",
       "      <td>1.12332</td>\n",
       "      <td>1.12364</td>\n",
       "      <td>1.12310</td>\n",
       "      <td>1.12330</td>\n",
       "      <td>245</td>\n",
       "    </tr>\n",
       "    <tr>\n",
       "      <th>EURUSD</th>\n",
       "      <td>5</td>\n",
       "      <td>20200701</td>\n",
       "      <td>1000</td>\n",
       "      <td>1.12327</td>\n",
       "      <td>1.12356</td>\n",
       "      <td>1.12310</td>\n",
       "      <td>1.12330</td>\n",
       "      <td>1414</td>\n",
       "    </tr>\n",
       "    <tr>\n",
       "      <th>EURUSD</th>\n",
       "      <td>5</td>\n",
       "      <td>20200701</td>\n",
       "      <td>1500</td>\n",
       "      <td>1.12331</td>\n",
       "      <td>1.12351</td>\n",
       "      <td>1.12310</td>\n",
       "      <td>1.12322</td>\n",
       "      <td>1317</td>\n",
       "    </tr>\n",
       "    <tr>\n",
       "      <th>EURUSD</th>\n",
       "      <td>5</td>\n",
       "      <td>20200701</td>\n",
       "      <td>2000</td>\n",
       "      <td>1.12322</td>\n",
       "      <td>1.12340</td>\n",
       "      <td>1.12300</td>\n",
       "      <td>1.12323</td>\n",
       "      <td>992</td>\n",
       "    </tr>\n",
       "    <tr>\n",
       "      <th>EURUSD</th>\n",
       "      <td>5</td>\n",
       "      <td>20200701</td>\n",
       "      <td>2500</td>\n",
       "      <td>1.12321</td>\n",
       "      <td>1.12346</td>\n",
       "      <td>1.12297</td>\n",
       "      <td>1.12314</td>\n",
       "      <td>982</td>\n",
       "    </tr>\n",
       "    <tr>\n",
       "      <th>EURUSD</th>\n",
       "      <td>5</td>\n",
       "      <td>20200701</td>\n",
       "      <td>3000</td>\n",
       "      <td>1.12323</td>\n",
       "      <td>1.12340</td>\n",
       "      <td>1.12310</td>\n",
       "      <td>1.12317</td>\n",
       "      <td>988</td>\n",
       "    </tr>\n",
       "    <tr>\n",
       "      <th>EURUSD</th>\n",
       "      <td>5</td>\n",
       "      <td>20200701</td>\n",
       "      <td>3500</td>\n",
       "      <td>1.12330</td>\n",
       "      <td>1.12337</td>\n",
       "      <td>1.12293</td>\n",
       "      <td>1.12307</td>\n",
       "      <td>962</td>\n",
       "    </tr>\n",
       "    <tr>\n",
       "      <th>EURUSD</th>\n",
       "      <td>5</td>\n",
       "      <td>20200701</td>\n",
       "      <td>4000</td>\n",
       "      <td>1.12307</td>\n",
       "      <td>1.12328</td>\n",
       "      <td>1.12290</td>\n",
       "      <td>1.12314</td>\n",
       "      <td>1611</td>\n",
       "    </tr>\n",
       "    <tr>\n",
       "      <th>EURUSD</th>\n",
       "      <td>5</td>\n",
       "      <td>20200701</td>\n",
       "      <td>4500</td>\n",
       "      <td>1.12303</td>\n",
       "      <td>1.12319</td>\n",
       "      <td>1.12290</td>\n",
       "      <td>1.12311</td>\n",
       "      <td>1279</td>\n",
       "    </tr>\n",
       "    <tr>\n",
       "      <th>EURUSD</th>\n",
       "      <td>5</td>\n",
       "      <td>20200701</td>\n",
       "      <td>5000</td>\n",
       "      <td>1.12295</td>\n",
       "      <td>1.12319</td>\n",
       "      <td>1.12290</td>\n",
       "      <td>1.12300</td>\n",
       "      <td>1284</td>\n",
       "    </tr>\n",
       "  </tbody>\n",
       "</table>\n",
       "</div>"
      ],
      "text/plain": [
       "        EURUSD   numdate  time     open      max      min    close   vol\n",
       "EURUSD       5  20200701   500  1.12332  1.12364  1.12310  1.12330   245\n",
       "EURUSD       5  20200701  1000  1.12327  1.12356  1.12310  1.12330  1414\n",
       "EURUSD       5  20200701  1500  1.12331  1.12351  1.12310  1.12322  1317\n",
       "EURUSD       5  20200701  2000  1.12322  1.12340  1.12300  1.12323   992\n",
       "EURUSD       5  20200701  2500  1.12321  1.12346  1.12297  1.12314   982\n",
       "EURUSD       5  20200701  3000  1.12323  1.12340  1.12310  1.12317   988\n",
       "EURUSD       5  20200701  3500  1.12330  1.12337  1.12293  1.12307   962\n",
       "EURUSD       5  20200701  4000  1.12307  1.12328  1.12290  1.12314  1611\n",
       "EURUSD       5  20200701  4500  1.12303  1.12319  1.12290  1.12311  1279\n",
       "EURUSD       5  20200701  5000  1.12295  1.12319  1.12290  1.12300  1284"
      ]
     },
     "execution_count": 3,
     "metadata": {},
     "output_type": "execute_result"
    }
   ],
   "source": [
    "data.head(10)"
   ]
  },
  {
   "cell_type": "code",
   "execution_count": 4,
   "metadata": {},
   "outputs": [],
   "source": [
    "a = get_sequence(df=data, col_name='open', start_point=0, end_point=5)\n",
    "b = get_sequence(df=data, col_name='open', start_point=5, end_point=10)"
   ]
  },
  {
   "cell_type": "code",
   "execution_count": null,
   "metadata": {},
   "outputs": [],
   "source": []
  },
  {
   "cell_type": "code",
   "execution_count": 5,
   "metadata": {},
   "outputs": [
    {
     "data": {
      "text/plain": [
       "array([ 5.e-05, -4.e-05,  9.e-05,  1.e-05])"
      ]
     },
     "execution_count": 5,
     "metadata": {},
     "output_type": "execute_result"
    }
   ],
   "source": [
    "(a[:-1] - a[1:])"
   ]
  },
  {
   "cell_type": "code",
   "execution_count": 6,
   "metadata": {},
   "outputs": [],
   "source": [
    "a = np.array([3,4,6,6,2,2,4,5,2,1])\n",
    "b = np.array([29,41,61,58,22,21,42,51,19,10])\n",
    "c = np.array([5,1,2,2,1,4,2,2,1,3])"
   ]
  },
  {
   "cell_type": "code",
   "execution_count": 7,
   "metadata": {},
   "outputs": [
    {
     "data": {
      "text/plain": [
       "[<matplotlib.lines.Line2D at 0x2856d78a888>]"
      ]
     },
     "execution_count": 7,
     "metadata": {},
     "output_type": "execute_result"
    },
    {
     "data": {
      "image/png": "[encoded data removed]",
      "text/plain": [
       "<Figure size 432x288 with 1 Axes>"
      ]
     },
     "metadata": {
      "needs_background": "light"
     },
     "output_type": "display_data"
    }
   ],
   "source": [
    "plt.plot(a)\n",
    "plt.plot(b)\n",
    "plt.plot(c)"
   ]
  },
  {
   "cell_type": "code",
   "execution_count": 8,
   "metadata": {},
   "outputs": [
    {
     "data": {
      "text/plain": [
       "[<matplotlib.lines.Line2D at 0x285920aa1c8>]"
      ]
     },
     "execution_count": 8,
     "metadata": {},
     "output_type": "execute_result"
    },
    {
     "data": {
      "image/png": "[encoded data removed]",
      "text/plain": [
       "<Figure size 432x288 with 1 Axes>"
      ]
     },
     "metadata": {
      "needs_background": "light"
     },
     "output_type": "display_data"
    }
   ],
   "source": [
    "plt.plot(a/norm(a))\n",
    "plt.plot(b/norm(b))\n",
    "plt.plot(c/norm(c))"
   ]
  },
  {
   "cell_type": "code",
   "execution_count": 9,
   "metadata": {},
   "outputs": [],
   "source": [
    "a_norm = a / norm(a)\n",
    "b_norm = b / norm(b)\n",
    "c_norm = c / norm(c)"
   ]
  },
  {
   "cell_type": "code",
   "execution_count": 10,
   "metadata": {},
   "outputs": [
    {
     "data": {
      "text/plain": [
       "0.008069240662889846"
      ]
     },
     "execution_count": 10,
     "metadata": {},
     "output_type": "execute_result"
    }
   ],
   "source": [
    "np.median(abs(a_norm - b_norm))"
   ]
  },
  {
   "cell_type": "code",
   "execution_count": 11,
   "metadata": {},
   "outputs": [
    {
     "data": {
      "text/plain": [
       "0.2263154497569259"
      ]
     },
     "execution_count": 11,
     "metadata": {},
     "output_type": "execute_result"
    }
   ],
   "source": [
    "np.median(abs(a_norm - c_norm))"
   ]
  },
  {
   "cell_type": "code",
   "execution_count": 12,
   "metadata": {},
   "outputs": [],
   "source": [
    "from scipy.spatial.distance import cosine, euclidean\n",
    "import math"
   ]
  },
  {
   "cell_type": "code",
   "execution_count": 13,
   "metadata": {},
   "outputs": [
    {
     "name": "stdout",
     "output_type": "stream",
     "text": [
      "0.03332028794838436\n",
      "0.7147566081010416\n",
      "0.7167452099154569\n",
      "0.0005551207944816117\n",
      "0.2554385044120533\n",
      "0.2568618479683764\n"
     ]
    }
   ],
   "source": [
    "print(euclidean(a_norm, b_norm))\n",
    "print(euclidean(a_norm, c_norm))\n",
    "print(euclidean(b_norm, c_norm))\n",
    "\n",
    "print(cosine(a_norm, b_norm))\n",
    "print(cosine(a_norm, c_norm))\n",
    "print(cosine(b_norm, c_norm))\n",
    "\n"
   ]
  },
  {
   "cell_type": "code",
   "execution_count": 14,
   "metadata": {},
   "outputs": [
    {
     "data": {
      "text/html": [
       "<div>\n",
       "<style scoped>\n",
       "    .dataframe tbody tr th:only-of-type {\n",
       "        vertical-align: middle;\n",
       "    }\n",
       "\n",
       "    .dataframe tbody tr th {\n",
       "        vertical-align: top;\n",
       "    }\n",
       "\n",
       "    .dataframe thead th {\n",
       "        text-align: right;\n",
       "    }\n",
       "</style>\n",
       "<table border=\"1\" class=\"dataframe\">\n",
       "  <thead>\n",
       "    <tr style=\"text-align: right;\">\n",
       "      <th></th>\n",
       "      <th>EURUSD</th>\n",
       "      <th>numdate</th>\n",
       "      <th>time</th>\n",
       "      <th>open</th>\n",
       "      <th>max</th>\n",
       "      <th>min</th>\n",
       "      <th>close</th>\n",
       "      <th>vol</th>\n",
       "    </tr>\n",
       "  </thead>\n",
       "  <tbody>\n",
       "    <tr>\n",
       "      <th>EURUSD</th>\n",
       "      <td>5</td>\n",
       "      <td>20200701</td>\n",
       "      <td>500</td>\n",
       "      <td>1.12332</td>\n",
       "      <td>1.12364</td>\n",
       "      <td>1.12310</td>\n",
       "      <td>1.12330</td>\n",
       "      <td>245</td>\n",
       "    </tr>\n",
       "    <tr>\n",
       "      <th>EURUSD</th>\n",
       "      <td>5</td>\n",
       "      <td>20200701</td>\n",
       "      <td>1000</td>\n",
       "      <td>1.12327</td>\n",
       "      <td>1.12356</td>\n",
       "      <td>1.12310</td>\n",
       "      <td>1.12330</td>\n",
       "      <td>1414</td>\n",
       "    </tr>\n",
       "    <tr>\n",
       "      <th>EURUSD</th>\n",
       "      <td>5</td>\n",
       "      <td>20200701</td>\n",
       "      <td>1500</td>\n",
       "      <td>1.12331</td>\n",
       "      <td>1.12351</td>\n",
       "      <td>1.12310</td>\n",
       "      <td>1.12322</td>\n",
       "      <td>1317</td>\n",
       "    </tr>\n",
       "    <tr>\n",
       "      <th>EURUSD</th>\n",
       "      <td>5</td>\n",
       "      <td>20200701</td>\n",
       "      <td>2000</td>\n",
       "      <td>1.12322</td>\n",
       "      <td>1.12340</td>\n",
       "      <td>1.12300</td>\n",
       "      <td>1.12323</td>\n",
       "      <td>992</td>\n",
       "    </tr>\n",
       "    <tr>\n",
       "      <th>EURUSD</th>\n",
       "      <td>5</td>\n",
       "      <td>20200701</td>\n",
       "      <td>2500</td>\n",
       "      <td>1.12321</td>\n",
       "      <td>1.12346</td>\n",
       "      <td>1.12297</td>\n",
       "      <td>1.12314</td>\n",
       "      <td>982</td>\n",
       "    </tr>\n",
       "    <tr>\n",
       "      <th>...</th>\n",
       "      <td>...</td>\n",
       "      <td>...</td>\n",
       "      <td>...</td>\n",
       "      <td>...</td>\n",
       "      <td>...</td>\n",
       "      <td>...</td>\n",
       "      <td>...</td>\n",
       "      <td>...</td>\n",
       "    </tr>\n",
       "    <tr>\n",
       "      <th>EURUSD</th>\n",
       "      <td>5</td>\n",
       "      <td>20200930</td>\n",
       "      <td>234500</td>\n",
       "      <td>1.17256</td>\n",
       "      <td>1.17275</td>\n",
       "      <td>1.17230</td>\n",
       "      <td>1.17249</td>\n",
       "      <td>2480</td>\n",
       "    </tr>\n",
       "    <tr>\n",
       "      <th>EURUSD</th>\n",
       "      <td>5</td>\n",
       "      <td>20200930</td>\n",
       "      <td>235000</td>\n",
       "      <td>1.17241</td>\n",
       "      <td>1.17258</td>\n",
       "      <td>1.17220</td>\n",
       "      <td>1.17245</td>\n",
       "      <td>2192</td>\n",
       "    </tr>\n",
       "    <tr>\n",
       "      <th>EURUSD</th>\n",
       "      <td>5</td>\n",
       "      <td>20200930</td>\n",
       "      <td>235500</td>\n",
       "      <td>1.17237</td>\n",
       "      <td>1.17248</td>\n",
       "      <td>1.17180</td>\n",
       "      <td>1.17207</td>\n",
       "      <td>3880</td>\n",
       "    </tr>\n",
       "    <tr>\n",
       "      <th>EURUSD</th>\n",
       "      <td>5</td>\n",
       "      <td>20201001</td>\n",
       "      <td>0</td>\n",
       "      <td>1.17216</td>\n",
       "      <td>1.17235</td>\n",
       "      <td>1.17185</td>\n",
       "      <td>1.17190</td>\n",
       "      <td>4947</td>\n",
       "    </tr>\n",
       "    <tr>\n",
       "      <th>EURUSD</th>\n",
       "      <td>5</td>\n",
       "      <td>20201001</td>\n",
       "      <td>500</td>\n",
       "      <td>1.17190</td>\n",
       "      <td>1.17220</td>\n",
       "      <td>1.17180</td>\n",
       "      <td>1.17198</td>\n",
       "      <td>62</td>\n",
       "    </tr>\n",
       "  </tbody>\n",
       "</table>\n",
       "<p>19193 rows × 8 columns</p>\n",
       "</div>"
      ],
      "text/plain": [
       "        EURUSD   numdate    time     open      max      min    close   vol\n",
       "EURUSD       5  20200701     500  1.12332  1.12364  1.12310  1.12330   245\n",
       "EURUSD       5  20200701    1000  1.12327  1.12356  1.12310  1.12330  1414\n",
       "EURUSD       5  20200701    1500  1.12331  1.12351  1.12310  1.12322  1317\n",
       "EURUSD       5  20200701    2000  1.12322  1.12340  1.12300  1.12323   992\n",
       "EURUSD       5  20200701    2500  1.12321  1.12346  1.12297  1.12314   982\n",
       "...        ...       ...     ...      ...      ...      ...      ...   ...\n",
       "EURUSD       5  20200930  234500  1.17256  1.17275  1.17230  1.17249  2480\n",
       "EURUSD       5  20200930  235000  1.17241  1.17258  1.17220  1.17245  2192\n",
       "EURUSD       5  20200930  235500  1.17237  1.17248  1.17180  1.17207  3880\n",
       "EURUSD       5  20201001       0  1.17216  1.17235  1.17185  1.17190  4947\n",
       "EURUSD       5  20201001     500  1.17190  1.17220  1.17180  1.17198    62\n",
       "\n",
       "[19193 rows x 8 columns]"
      ]
     },
     "execution_count": 14,
     "metadata": {},
     "output_type": "execute_result"
    }
   ],
   "source": [
    "data"
   ]
  },
  {
   "cell_type": "code",
   "execution_count": 15,
   "metadata": {},
   "outputs": [
    {
     "name": "stdout",
     "output_type": "stream",
     "text": [
      "0 100\n",
      "35 135\n",
      "70 170\n",
      "105 205\n",
      "140 240\n",
      "175 275\n",
      "210 310\n",
      "245 345\n",
      "280 380\n",
      "315 415\n"
     ]
    }
   ],
   "source": [
    "# (i*step + i*margin : (i+1)*step + i*margin)\n",
    "\n",
    "# 0 - 100\n",
    "# 35 - 135\n",
    "# 70 - 170\n",
    "# 105 - 205\n",
    "\n",
    "\n",
    "\n",
    "# (i*step : (i+1)*step)\n",
    "# 0 - 100 \n",
    "# 100 - 200\n",
    "# 200 - 300\n",
    "# 300 - 400\n",
    "\n",
    "for i in range(10):\n",
    "    print(i*35, 100 + i*35)"
   ]
  },
  {
   "cell_type": "code",
   "execution_count": null,
   "metadata": {},
   "outputs": [],
   "source": []
  },
  {
   "cell_type": "code",
   "execution_count": 16,
   "metadata": {},
   "outputs": [
    {
     "name": "stdout",
     "output_type": "stream",
     "text": [
      "dataset length: 547\n",
      "sequences dataset shape: (546, 100)\n"
     ]
    }
   ],
   "source": [
    "dataset_seq = list()\n",
    "step = 100\n",
    "margin = 35\n",
    "col_name = 'open'\n",
    "\n",
    "i = 0\n",
    "start_point_iter, end_point_iter = 0, 0 \n",
    "while end_point_iter <= data.shape[0]:\n",
    "    \n",
    "    start_point_iter = i * margin\n",
    "    end_point_iter = step + i * margin\n",
    "    # print(f'slice values: {start_point_iter}:{end_point_iter}')\n",
    "    current_seq = get_sequence(\n",
    "        df=data, col_name=col_name, \n",
    "        start_point=start_point_iter, \n",
    "        end_point=end_point_iter)\n",
    "    dataset_seq.append(current_seq / norm(current_seq))\n",
    "    i += 1\n",
    "print(f'dataset length: {len(dataset_seq)}')\n",
    "dataset_seq = np.stack(dataset_seq[:-1], axis=0).astype('float32')\n",
    "print(f'sequences dataset shape: {dataset_seq.shape}')\n",
    "\n",
    "\n"
   ]
  },
  {
   "cell_type": "code",
   "execution_count": 17,
   "metadata": {},
   "outputs": [
    {
     "data": {
      "text/plain": [
       "(546, 100)"
      ]
     },
     "execution_count": 17,
     "metadata": {},
     "output_type": "execute_result"
    }
   ],
   "source": [
    "dim = 100\n",
    "nb = dataset_seq.shape[0]\n",
    "nq = 10\n",
    "np.random.seed(111)\n",
    "\n",
    "dataset_seq.shape"
   ]
  },
  {
   "cell_type": "code",
   "execution_count": 18,
   "metadata": {},
   "outputs": [
    {
     "name": "stdout",
     "output_type": "stream",
     "text": [
      "0\n",
      "546\n"
     ]
    }
   ],
   "source": [
    "index = faiss.IndexFlatL2(dim)\n",
    "print(index.ntotal) # before added vectors to index  \n",
    "index.add(dataset_seq)\n",
    "print(index.ntotal) # after added vectors to index"
   ]
  },
  {
   "cell_type": "code",
   "execution_count": 19,
   "metadata": {},
   "outputs": [],
   "source": [
    "topn = 3\n",
    "query = np.expand_dims(dataset_seq[20], axis=0)\n",
    "distances, indexes = index.search(query, topn) "
   ]
  },
  {
   "cell_type": "code",
   "execution_count": 20,
   "metadata": {},
   "outputs": [
    {
     "data": {
      "text/plain": [
       "(array([[ 20, 133,  32]], dtype=int64),\n",
       " array([[0.0000000e+00, 1.1845712e-07, 1.2789654e-07]], dtype=float32))"
      ]
     },
     "execution_count": 20,
     "metadata": {},
     "output_type": "execute_result"
    }
   ],
   "source": [
    "indexes, distances"
   ]
  },
  {
   "cell_type": "code",
   "execution_count": 21,
   "metadata": {},
   "outputs": [
    {
     "data": {
      "text/plain": [
       "0.0006957864970900118"
      ]
     },
     "execution_count": 21,
     "metadata": {},
     "output_type": "execute_result"
    }
   ],
   "source": [
    "euclidean(dataset_seq[20], dataset_seq[21])"
   ]
  },
  {
   "cell_type": "code",
   "execution_count": null,
   "metadata": {},
   "outputs": [],
   "source": []
  },
  {
   "cell_type": "code",
   "execution_count": 22,
   "metadata": {},
   "outputs": [
    {
     "data": {
      "text/plain": [
       "[<matplotlib.lines.Line2D at 0x285921308c8>]"
      ]
     },
     "execution_count": 22,
     "metadata": {},
     "output_type": "execute_result"
    },
    {
     "data": {
      "image/png": "[encoded data removed]",
      "text/plain": [
       "<Figure size 432x288 with 1 Axes>"
      ]
     },
     "metadata": {
      "needs_background": "light"
     },
     "output_type": "display_data"
    }
   ],
   "source": [
    "plt.plot(dataset_seq[20])\n",
    "plt.plot(dataset_seq[200])"
   ]
  },
  {
   "cell_type": "code",
   "execution_count": 23,
   "metadata": {},
   "outputs": [
    {
     "data": {
      "text/plain": [
       "[<matplotlib.lines.Line2D at 0x285921ad6c8>]"
      ]
     },
     "execution_count": 23,
     "metadata": {},
     "output_type": "execute_result"
    },
    {
     "data": {
      "image/png": "[encoded data removed]",
      "text/plain": [
       "<Figure size 432x288 with 1 Axes>"
      ]
     },
     "metadata": {
      "needs_background": "light"
     },
     "output_type": "display_data"
    }
   ],
   "source": [
    "plt.plot(dataset_seq[20])\n",
    "plt.plot(dataset_seq[133])"
   ]
  },
  {
   "cell_type": "code",
   "execution_count": 24,
   "metadata": {},
   "outputs": [
    {
     "data": {
      "text/plain": [
       "[<matplotlib.lines.Line2D at 0x2859218b9c8>]"
      ]
     },
     "execution_count": 24,
     "metadata": {},
     "output_type": "execute_result"
    },
    {
     "data": {
      "image/png": "[encoded data removed]",
      "text/plain": [
       "<Figure size 432x288 with 1 Axes>"
      ]
     },
     "metadata": {
      "needs_background": "light"
     },
     "output_type": "display_data"
    }
   ],
   "source": [
    "plt.plot(dataset_seq[20])\n",
    "plt.plot(dataset_seq[32])"
   ]
  },
  {
   "cell_type": "code",
   "execution_count": null,
   "metadata": {},
   "outputs": [],
   "source": []
  },
  {
   "cell_type": "code",
   "execution_count": null,
   "metadata": {},
   "outputs": [],
   "source": []
  },
  {
   "cell_type": "code",
   "execution_count": null,
   "metadata": {},
   "outputs": [],
   "source": []
  },
  {
   "cell_type": "code",
   "execution_count": null,
   "metadata": {},
   "outputs": [],
   "source": []
  },
  {
   "cell_type": "code",
   "execution_count": null,
   "metadata": {},
   "outputs": [],
   "source": []
  },
  {
   "cell_type": "code",
   "execution_count": null,
   "metadata": {},
   "outputs": [],
   "source": []
  },
  {
   "cell_type": "code",
   "execution_count": null,
   "metadata": {},
   "outputs": [],
   "source": []
  },
  {
   "cell_type": "code",
   "execution_count": null,
   "metadata": {},
   "outputs": [],
   "source": []
  },
  {
   "cell_type": "code",
   "execution_count": null,
   "metadata": {},
   "outputs": [],
   "source": []
  },
  {
   "cell_type": "code",
   "execution_count": null,
   "metadata": {},
   "outputs": [],
   "source": []
  },
  {
   "cell_type": "code",
   "execution_count": null,
   "metadata": {},
   "outputs": [],
   "source": []
  },
  {
   "cell_type": "code",
   "execution_count": null,
   "metadata": {},
   "outputs": [],
   "source": []
  },
  {
   "cell_type": "code",
   "execution_count": null,
   "metadata": {},
   "outputs": [],
   "source": []
  },
  {
   "cell_type": "code",
   "execution_count": null,
   "metadata": {},
   "outputs": [],
   "source": []
  }
 ],
 "metadata": {
  "kernelspec": {
   "display_name": "Python 3",
   "language": "python",
   "name": "python3"
  },
  "language_info": {
   "codemirror_mode": {
    "name": "ipython",
    "version": 3
   },
   "file_extension": ".py",
   "mimetype": "text/x-python",
   "name": "python",
   "nbconvert_exporter": "python",
   "pygments_lexer": "ipython3",
   "version": "3.7.9"
  },
  "orig_nbformat": 4,
  "vscode": {
   "interpreter": {
    "hash": "5c06eb492bf4248da3738ae4c37199acea3e8f98a2ca9d8012a68cd2759efd6c"
   }
  }
 },
 "nbformat": 4,
 "nbformat_minor": 2
}
