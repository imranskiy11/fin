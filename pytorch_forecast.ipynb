{
 "cells": [
  {
   "cell_type": "code",
   "execution_count": 4,
   "metadata": {},
   "outputs": [],
   "source": [
    "import pandas as pd\n",
    "import numpy as np\n",
    "from helpers.data_load import load_data_from_txt\n",
    "\n",
    "from pytorch_forecasting import Baseline, TemporalFusionTransformer, TimeSeriesDataSet\n",
    "from pytorch_forecasting.data import GroupNormalizer\n",
    "from pytorch_forecasting.metrics import SMAPE, PoissonLoss, QuantileLoss\n",
    "from pytorch_forecasting.models.temporal_fusion_transformer.tuning import optimize_hyperparameters\n",
    "\n",
    "import warnings\n",
    "warnings.filterwarnings('ignore')\n",
    "\n"
   ]
  },
  {
   "cell_type": "code",
   "execution_count": 5,
   "metadata": {},
   "outputs": [],
   "source": [
    "import time\n",
    "import datetime"
   ]
  },
  {
   "cell_type": "code",
   "execution_count": 2,
   "metadata": {},
   "outputs": [],
   "source": [
    "data = load_data_from_txt(path='data/data.txt')"
   ]
  },
  {
   "cell_type": "code",
   "execution_count": 12,
   "metadata": {},
   "outputs": [
    {
     "data": {
      "text/html": [
       "<div>\n",
       "<style scoped>\n",
       "    .dataframe tbody tr th:only-of-type {\n",
       "        vertical-align: middle;\n",
       "    }\n",
       "\n",
       "    .dataframe tbody tr th {\n",
       "        vertical-align: top;\n",
       "    }\n",
       "\n",
       "    .dataframe thead th {\n",
       "        text-align: right;\n",
       "    }\n",
       "</style>\n",
       "<table border=\"1\" class=\"dataframe\">\n",
       "  <thead>\n",
       "    <tr style=\"text-align: right;\">\n",
       "      <th></th>\n",
       "      <th>EURUSD</th>\n",
       "      <th>numdate</th>\n",
       "      <th>time</th>\n",
       "      <th>open</th>\n",
       "      <th>max</th>\n",
       "      <th>min</th>\n",
       "      <th>close</th>\n",
       "      <th>vol</th>\n",
       "    </tr>\n",
       "  </thead>\n",
       "  <tbody>\n",
       "    <tr>\n",
       "      <th>EURUSD</th>\n",
       "      <td>5</td>\n",
       "      <td>20200701</td>\n",
       "      <td>500</td>\n",
       "      <td>1.12332</td>\n",
       "      <td>1.12364</td>\n",
       "      <td>1.12310</td>\n",
       "      <td>1.12330</td>\n",
       "      <td>245</td>\n",
       "    </tr>\n",
       "    <tr>\n",
       "      <th>EURUSD</th>\n",
       "      <td>5</td>\n",
       "      <td>20200701</td>\n",
       "      <td>1000</td>\n",
       "      <td>1.12327</td>\n",
       "      <td>1.12356</td>\n",
       "      <td>1.12310</td>\n",
       "      <td>1.12330</td>\n",
       "      <td>1414</td>\n",
       "    </tr>\n",
       "    <tr>\n",
       "      <th>EURUSD</th>\n",
       "      <td>5</td>\n",
       "      <td>20200701</td>\n",
       "      <td>1500</td>\n",
       "      <td>1.12331</td>\n",
       "      <td>1.12351</td>\n",
       "      <td>1.12310</td>\n",
       "      <td>1.12322</td>\n",
       "      <td>1317</td>\n",
       "    </tr>\n",
       "    <tr>\n",
       "      <th>EURUSD</th>\n",
       "      <td>5</td>\n",
       "      <td>20200701</td>\n",
       "      <td>2000</td>\n",
       "      <td>1.12322</td>\n",
       "      <td>1.12340</td>\n",
       "      <td>1.12300</td>\n",
       "      <td>1.12323</td>\n",
       "      <td>992</td>\n",
       "    </tr>\n",
       "    <tr>\n",
       "      <th>EURUSD</th>\n",
       "      <td>5</td>\n",
       "      <td>20200701</td>\n",
       "      <td>2500</td>\n",
       "      <td>1.12321</td>\n",
       "      <td>1.12346</td>\n",
       "      <td>1.12297</td>\n",
       "      <td>1.12314</td>\n",
       "      <td>982</td>\n",
       "    </tr>\n",
       "    <tr>\n",
       "      <th>...</th>\n",
       "      <td>...</td>\n",
       "      <td>...</td>\n",
       "      <td>...</td>\n",
       "      <td>...</td>\n",
       "      <td>...</td>\n",
       "      <td>...</td>\n",
       "      <td>...</td>\n",
       "      <td>...</td>\n",
       "    </tr>\n",
       "    <tr>\n",
       "      <th>EURUSD</th>\n",
       "      <td>5</td>\n",
       "      <td>20200930</td>\n",
       "      <td>234500</td>\n",
       "      <td>1.17256</td>\n",
       "      <td>1.17275</td>\n",
       "      <td>1.17230</td>\n",
       "      <td>1.17249</td>\n",
       "      <td>2480</td>\n",
       "    </tr>\n",
       "    <tr>\n",
       "      <th>EURUSD</th>\n",
       "      <td>5</td>\n",
       "      <td>20200930</td>\n",
       "      <td>235000</td>\n",
       "      <td>1.17241</td>\n",
       "      <td>1.17258</td>\n",
       "      <td>1.17220</td>\n",
       "      <td>1.17245</td>\n",
       "      <td>2192</td>\n",
       "    </tr>\n",
       "    <tr>\n",
       "      <th>EURUSD</th>\n",
       "      <td>5</td>\n",
       "      <td>20200930</td>\n",
       "      <td>235500</td>\n",
       "      <td>1.17237</td>\n",
       "      <td>1.17248</td>\n",
       "      <td>1.17180</td>\n",
       "      <td>1.17207</td>\n",
       "      <td>3880</td>\n",
       "    </tr>\n",
       "    <tr>\n",
       "      <th>EURUSD</th>\n",
       "      <td>5</td>\n",
       "      <td>20201001</td>\n",
       "      <td>0</td>\n",
       "      <td>1.17216</td>\n",
       "      <td>1.17235</td>\n",
       "      <td>1.17185</td>\n",
       "      <td>1.17190</td>\n",
       "      <td>4947</td>\n",
       "    </tr>\n",
       "    <tr>\n",
       "      <th>EURUSD</th>\n",
       "      <td>5</td>\n",
       "      <td>20201001</td>\n",
       "      <td>500</td>\n",
       "      <td>1.17190</td>\n",
       "      <td>1.17220</td>\n",
       "      <td>1.17180</td>\n",
       "      <td>1.17198</td>\n",
       "      <td>62</td>\n",
       "    </tr>\n",
       "  </tbody>\n",
       "</table>\n",
       "<p>19193 rows × 8 columns</p>\n",
       "</div>"
      ],
      "text/plain": [
       "        EURUSD   numdate    time     open      max      min    close   vol\n",
       "EURUSD       5  20200701     500  1.12332  1.12364  1.12310  1.12330   245\n",
       "EURUSD       5  20200701    1000  1.12327  1.12356  1.12310  1.12330  1414\n",
       "EURUSD       5  20200701    1500  1.12331  1.12351  1.12310  1.12322  1317\n",
       "EURUSD       5  20200701    2000  1.12322  1.12340  1.12300  1.12323   992\n",
       "EURUSD       5  20200701    2500  1.12321  1.12346  1.12297  1.12314   982\n",
       "...        ...       ...     ...      ...      ...      ...      ...   ...\n",
       "EURUSD       5  20200930  234500  1.17256  1.17275  1.17230  1.17249  2480\n",
       "EURUSD       5  20200930  235000  1.17241  1.17258  1.17220  1.17245  2192\n",
       "EURUSD       5  20200930  235500  1.17237  1.17248  1.17180  1.17207  3880\n",
       "EURUSD       5  20201001       0  1.17216  1.17235  1.17185  1.17190  4947\n",
       "EURUSD       5  20201001     500  1.17190  1.17220  1.17180  1.17198    62\n",
       "\n",
       "[19193 rows x 8 columns]"
      ]
     },
     "execution_count": 12,
     "metadata": {},
     "output_type": "execute_result"
    }
   ],
   "source": [
    "data"
   ]
  },
  {
   "cell_type": "code",
   "execution_count": null,
   "metadata": {},
   "outputs": [],
   "source": []
  },
  {
   "cell_type": "code",
   "execution_count": 68,
   "metadata": {},
   "outputs": [],
   "source": [
    "def divide_numdate(num_date):\n",
    "    return f'{num_date[0:4]}:{num_date[4:6]}:{num_date[6:8]}'\n",
    "\n",
    "def divide_timedate(time_date, pairs_count=3):\n",
    "    time_date = (6 - len(time_date))*'0' + time_date\n",
    "    time_date = ':'.join([time_date[2*i:2*(i+1)] for i in range(pairs_count)])\n",
    "    return time_date\n",
    "\n",
    "def to_datetime_index_date(index_date):\n",
    "    return datetime.datetime.strptime(index_date, '%Y:%m:%d %H:%M:%S')\n",
    "    "
   ]
  },
  {
   "cell_type": "code",
   "execution_count": 83,
   "metadata": {},
   "outputs": [],
   "source": []
  },
  {
   "cell_type": "code",
   "execution_count": null,
   "metadata": {},
   "outputs": [],
   "source": [
    "def \n",
    "\n"
   ]
  },
  {
   "cell_type": "code",
   "execution_count": null,
   "metadata": {},
   "outputs": [],
   "source": []
  },
  {
   "cell_type": "code",
   "execution_count": null,
   "metadata": {},
   "outputs": [],
   "source": []
  },
  {
   "cell_type": "code",
   "execution_count": null,
   "metadata": {},
   "outputs": [],
   "source": []
  },
  {
   "cell_type": "code",
   "execution_count": 102,
   "metadata": {},
   "outputs": [],
   "source": [
    "test_df['ymd'] = test_df.numdate.apply(divide_numdate)\n",
    "test_df['hms'] = test_df.time.apply(divide_timedate)"
   ]
  },
  {
   "cell_type": "code",
   "execution_count": 107,
   "metadata": {},
   "outputs": [],
   "source": [
    "test_df['index_date'] = test_df.ymd + ' ' + test_df.hms"
   ]
  },
  {
   "cell_type": "code",
   "execution_count": 112,
   "metadata": {},
   "outputs": [
    {
     "data": {
      "text/plain": [
       "EURUSD   2020-07-14 06:05:00\n",
       "EURUSD   2020-08-21 20:25:00\n",
       "EURUSD   2020-07-13 19:30:00\n",
       "EURUSD   2020-08-25 02:05:00\n",
       "EURUSD   2020-08-11 10:55:00\n",
       "EURUSD   2020-07-29 07:25:00\n",
       "EURUSD   2020-08-04 12:20:00\n",
       "EURUSD   2020-09-02 11:25:00\n",
       "EURUSD   2020-08-03 15:45:00\n",
       "EURUSD   2020-08-27 08:35:00\n",
       "Name: index_date, dtype: datetime64[ns]"
      ]
     },
     "execution_count": 112,
     "metadata": {},
     "output_type": "execute_result"
    }
   ],
   "source": [
    "test_df.index_date.apply(to_datetime_index_date)"
   ]
  },
  {
   "cell_type": "code",
   "execution_count": null,
   "metadata": {},
   "outputs": [],
   "source": []
  }
 ],
 "metadata": {
  "kernelspec": {
   "display_name": "Python 3",
   "language": "python",
   "name": "python3"
  },
  "language_info": {
   "codemirror_mode": {
    "name": "ipython",
    "version": 3
   },
   "file_extension": ".py",
   "mimetype": "text/x-python",
   "name": "python",
   "nbconvert_exporter": "python",
   "pygments_lexer": "ipython3",
   "version": "3.7.9 (tags/v3.7.9:13c94747c7, Aug 17 2020, 18:58:18) [MSC v.1900 64 bit (AMD64)]"
  },
  "orig_nbformat": 4,
  "vscode": {
   "interpreter": {
    "hash": "5c06eb492bf4248da3738ae4c37199acea3e8f98a2ca9d8012a68cd2759efd6c"
   }
  }
 },
 "nbformat": 4,
 "nbformat_minor": 2
}
